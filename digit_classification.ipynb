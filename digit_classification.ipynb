{
  "nbformat": 4,
  "nbformat_minor": 0,
  "metadata": {
    "colab": {
      "name": "MNIST_digits_classification.ipynb",
      "version": "0.3.2",
      "provenance": [],
      "collapsed_sections": []
    },
    "kernelspec": {
      "name": "python3",
      "display_name": "Python 3"
    }
  },
  "cells": [
    {
      "cell_type": "markdown",
      "metadata": {
        "id": "mbysU5yx8_Mv",
        "colab_type": "text"
      },
      "source": [
        "we will use the famous MNIST Dataset to build Neural Networks capable to perform handwritten digits classification. "
      ]
    },
    {
      "cell_type": "markdown",
      "metadata": {
        "id": "jmc-0XEn9LkS",
        "colab_type": "text"
      },
      "source": [
        "# Importing Tensorflow and checking it's version\n"
      ]
    },
    {
      "cell_type": "code",
      "metadata": {
        "id": "Zx1uArr-bInO",
        "colab_type": "code",
        "colab": {
          "base_uri": "https://localhost:8080/",
          "height": 35
        },
        "outputId": "b652fa96-178a-4a30-ee66-0eac525e3565"
      },
      "source": [
        "import tensorflow as tf\n",
        "tf.__version__\n"
      ],
      "execution_count": 55,
      "outputs": [
        {
          "output_type": "execute_result",
          "data": {
            "text/plain": [
              "'1.14.0'"
            ]
          },
          "metadata": {
            "tags": []
          },
          "execution_count": 55
        }
      ]
    },
    {
      "cell_type": "markdown",
      "metadata": {
        "id": "2Jua06Lm9WKw",
        "colab_type": "text"
      },
      "source": [
        "# Importing MNIST data from tensorflow.examples.tutorials "
      ]
    },
    {
      "cell_type": "code",
      "metadata": {
        "id": "0-MIviPKjA5k",
        "colab_type": "code",
        "colab": {
          "base_uri": "https://localhost:8080/",
          "height": 90
        },
        "outputId": "dc91cd55-5dc7-4ed4-df54-dd0278b214a8"
      },
      "source": [
        "from tensorflow.examples.tutorials.mnist import input_data\n",
        "mnist = input_data.read_data_sets(\"MNIST_data/\", one_hot=True)"
      ],
      "execution_count": 56,
      "outputs": [
        {
          "output_type": "stream",
          "text": [
            "Extracting MNIST_data/train-images-idx3-ubyte.gz\n",
            "Extracting MNIST_data/train-labels-idx1-ubyte.gz\n",
            "Extracting MNIST_data/t10k-images-idx3-ubyte.gz\n",
            "Extracting MNIST_data/t10k-labels-idx1-ubyte.gz\n"
          ],
          "name": "stdout"
        }
      ]
    },
    {
      "cell_type": "code",
      "metadata": {
        "id": "5rDNCnLnnB_U",
        "colab_type": "code",
        "colab": {
          "base_uri": "https://localhost:8080/",
          "height": 55
        },
        "outputId": "9b78c0f5-d01f-44cf-c950-23159d1aa5e0"
      },
      "source": [
        "mnist"
      ],
      "execution_count": 57,
      "outputs": [
        {
          "output_type": "execute_result",
          "data": {
            "text/plain": [
              "Datasets(train=<tensorflow.contrib.learn.python.learn.datasets.mnist.DataSet object at 0x7fbfef46b7f0>, validation=<tensorflow.contrib.learn.python.learn.datasets.mnist.DataSet object at 0x7fbfef46b518>, test=<tensorflow.contrib.learn.python.learn.datasets.mnist.DataSet object at 0x7fbfef405c18>)"
            ]
          },
          "metadata": {
            "tags": []
          },
          "execution_count": 57
        }
      ]
    },
    {
      "cell_type": "markdown",
      "metadata": {
        "id": "2f9zIg1T9upC",
        "colab_type": "text"
      },
      "source": [
        "# we will use the interactive session that is more suitable for environments like Jupyter notebooks."
      ]
    },
    {
      "cell_type": "code",
      "metadata": {
        "id": "Ysb38UZanEHE",
        "colab_type": "code",
        "colab": {
          "base_uri": "https://localhost:8080/",
          "height": 74
        },
        "outputId": "17c51f03-4d96-4828-f0fb-fca6451aedb8"
      },
      "source": [
        "sess =  tf.InteractiveSession()"
      ],
      "execution_count": 58,
      "outputs": [
        {
          "output_type": "stream",
          "text": [
            "/usr/local/lib/python3.6/dist-packages/tensorflow/python/client/session.py:1735: UserWarning: An interactive session is already active. This can cause out-of-memory errors in some cases. You must explicitly call `InteractiveSession.close()` to release resources held by the other session(s).\n",
            "  warnings.warn('An interactive session is already active. This can '\n"
          ],
          "name": "stderr"
        }
      ]
    },
    {
      "cell_type": "markdown",
      "metadata": {
        "id": "-R3uIMcc96Us",
        "colab_type": "text"
      },
      "source": [
        "# Declaring Placeholders for inputs (\"x\") and  output(\"y_\")"
      ]
    },
    {
      "cell_type": "code",
      "metadata": {
        "id": "y-Or7jq0nLMg",
        "colab_type": "code",
        "colab": {}
      },
      "source": [
        "x = tf.placeholder(tf.float32 , shape = [None,784])\n",
        "y_ = tf.placeholder(tf.float32 , shape = [None,10])\n"
      ],
      "execution_count": 0,
      "outputs": []
    },
    {
      "cell_type": "markdown",
      "metadata": {
        "id": "M5IpmmHI-dMI",
        "colab_type": "text"
      },
      "source": [
        "# Assigning Weights and bias as Null "
      ]
    },
    {
      "cell_type": "code",
      "metadata": {
        "id": "8hDbJWGrnYT0",
        "colab_type": "code",
        "colab": {}
      },
      "source": [
        "w = tf.Variable(tf.zeros([784,10],tf.float32))\n",
        "b = tf.Variable(tf.zeros([10],tf.float32))"
      ],
      "execution_count": 0,
      "outputs": []
    },
    {
      "cell_type": "code",
      "metadata": {
        "id": "1nOp4eAcnbW-",
        "colab_type": "code",
        "colab": {}
      },
      "source": [
        "# run the op initialize_all_variables using an interactive session\n",
        "sess.run(tf.global_variables_initializer())"
      ],
      "execution_count": 0,
      "outputs": []
    },
    {
      "cell_type": "code",
      "metadata": {
        "id": "WZg0gRZ_nsLy",
        "colab_type": "code",
        "colab": {}
      },
      "source": [
        ""
      ],
      "execution_count": 0,
      "outputs": []
    },
    {
      "cell_type": "markdown",
      "metadata": {
        "id": "OyP5xa4b-wE4",
        "colab_type": "text"
      },
      "source": [
        "# Softmax Regression\n",
        "oftmax is an activation function that is normally used in classification problems. It generate the probabilities for the output. For example, our model will not be 100% sure that one digit is the number nine, instead, the answer will be a distribution of probabilities where, if the model is right, the nine number will have a larger probability than the other other digits."
      ]
    },
    {
      "cell_type": "code",
      "metadata": {
        "id": "qU9dgHIBnvBy",
        "colab_type": "code",
        "colab": {}
      },
      "source": [
        "y = tf.nn.softmax(tf.matmul(x,w)+b)"
      ],
      "execution_count": 0,
      "outputs": []
    },
    {
      "cell_type": "markdown",
      "metadata": {
        "id": "PoHxa9TM_BX3",
        "colab_type": "text"
      },
      "source": [
        "# Cost Function \n",
        "It is used to minimize between the right labels and estimated outputs "
      ]
    },
    {
      "cell_type": "code",
      "metadata": {
        "id": "2OxmeHTJnwYv",
        "colab_type": "code",
        "colab": {}
      },
      "source": [
        "cross_entropy = tf.reduce_mean(-tf.reduce_sum(y_ * tf.log(y), reduction_indices=[1]))"
      ],
      "execution_count": 0,
      "outputs": []
    },
    {
      "cell_type": "markdown",
      "metadata": {
        "id": "Xaf8ZxTu_gQW",
        "colab_type": "text"
      },
      "source": [
        "#  Gradient Descent Optimization "
      ]
    },
    {
      "cell_type": "code",
      "metadata": {
        "id": "uKzIUxJKn3AJ",
        "colab_type": "code",
        "colab": {}
      },
      "source": [
        "\n",
        "train_step = tf.train.GradientDescentOptimizer(0.5).minimize(cross_entropy)"
      ],
      "execution_count": 0,
      "outputs": []
    },
    {
      "cell_type": "code",
      "metadata": {
        "id": "oj3hX6Lj_xW8",
        "colab_type": "code",
        "colab": {}
      },
      "source": [
        "#Load 50 training examples for each training iteration   \n",
        "for i in range(1000):\n",
        "    batch = mnist.train.next_batch(50)\n",
        "    train_step.run(feed_dict={x: batch[0], y_: batch[1]})"
      ],
      "execution_count": 0,
      "outputs": []
    },
    {
      "cell_type": "markdown",
      "metadata": {
        "id": "kuXR11zs_qYg",
        "colab_type": "text"
      },
      "source": [
        "# Test "
      ]
    },
    {
      "cell_type": "code",
      "metadata": {
        "id": "zE0b2sWN1Mlu",
        "colab_type": "code",
        "colab": {
          "base_uri": "https://localhost:8080/",
          "height": 35
        },
        "outputId": "6e35e827-97ac-418e-97cc-609e5268102c"
      },
      "source": [
        "correct_prediction = tf.equal(tf.argmax(y, 1), tf.argmax(y_, 1))\n",
        "accuracy = tf.reduce_mean(tf.cast(correct_prediction, tf.float32))\n",
        "acc = accuracy.eval(feed_dict={x: mnist.test.images, y_: mnist.test.labels}) * 100\n",
        "print(\"The final accuracy for the simple ANN model is: {} % \".format(acc) )"
      ],
      "execution_count": 66,
      "outputs": [
        {
          "output_type": "stream",
          "text": [
            "The final accuracy for the simple ANN model is: 90.88000059127808 % \n"
          ],
          "name": "stdout"
        }
      ]
    },
    {
      "cell_type": "code",
      "metadata": {
        "id": "a4Fp7hLx7jyi",
        "colab_type": "code",
        "colab": {}
      },
      "source": [
        "sess.close()"
      ],
      "execution_count": 0,
      "outputs": []
    },
    {
      "cell_type": "code",
      "metadata": {
        "id": "OyFXFee57sTS",
        "colab_type": "code",
        "colab": {}
      },
      "source": [
        ""
      ],
      "execution_count": 0,
      "outputs": []
    }
  ]
}